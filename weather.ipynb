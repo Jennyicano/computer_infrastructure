{
 "cells": [
  {
   "cell_type": "markdown",
   "metadata": {},
   "source": [
    "### Notebook of the task 1 to 7.\n",
    "\n",
    "Author Jennifer Ibanez Cano \n",
    "\n",
    "This notebook contains a brief report explaining how I completed Task 1 to 7, using the command line. \n",
    "\n",
    "*******************"
   ]
  },
  {
   "cell_type": "markdown",
   "metadata": {},
   "source": [
    "#### Task 1: Create a Directory Structure. \n",
    "\n",
    "Description of the task: Using the command line, create a directory (that is, a folder) named data at the root of your repository. Inside data, create two subdirectories: timestamps and weather.\n",
    "\n",
    "Steps that I followed:\n",
    "\n",
    "- Open the repository, then to open de codespace, I clic in Code and selected the option \"Create a codespace on main\". \n",
    "- Now that I have open the codespace in a window I can create the directory named data., To cretae new directories I'll use the command \"mkdir\". To do this I followed this steps in the Terminal:\n",
    "    - @Jennyicano ➜ /workspaces/computer_infrastructure (main) $ mkdir data (this will create a new directory in the root of the repository)\n",
    "- Checking the new directory it has being created, using \"ls\":\n",
    "    - @Jennyicano ➜ /workspaces/computer_infrastructure (main) $ ls\n",
    "        - output = Readme.md data\n",
    "- Create the two subdirectories: timestamps and weather.\n",
    "    - @Jennyicano ➜ /workspaces/computer_infrastructure (main) $ cd data/ (I'll use the command \"cd\" to go into the directory data)\n",
    "    - @Jennyicano ➜ /workspaces/computer_infrastructure/data (main) $ mkdir timestamps\n",
    "    - @Jennyicano ➜ /workspaces/computer_infrastructure/data (main) $ mkdir weather\n",
    "    - @Jennyicano ➜ /workspaces/computer_infrastructure/data (main) $ ls (checking the new subdirectories have been created )\n",
    "        - output = timestamps  data\n",
    "\n",
    "*******************"
   ]
  },
  {
   "cell_type": "markdown",
   "metadata": {},
   "source": [
    "#### Task 2: Timestamps\n",
    "\n",
    "Description of the task: Navigate to the data/timestamps directory. Use the date command to output the current date and time, appending the output to a file named now.txt. Make sure to use the >> operator to append (not overwrite) the file. Repeat this step ten times, then use the more command to verify that now.txt has the expected content.\n",
    "\n",
    "Steps that I followed:\n",
    "- Open the repository and selecting the codespace that I created in the task 1. \n",
    "- Navigate to the data/timestamps directory\n",
    "    - @Jennyicano ➜ /workspaces/computer_infrastructure (main) $ ls\n",
    "        - output = Readme.md data\n",
    "    - @Jennyicano ➜ /workspaces/computer_infrastructure (main) $ cd data/\n",
    "    - @Jennyicano ➜ /workspaces/computer_infrastructure/data (main) $ ls\n",
    "        - output = timestamp weather\n",
    "    - @Jennyicano ➜ /workspaces/computer_infrastructure/data (main) $ cd timestamp \n",
    "    - @Jennyicano ➜ /workspaces/computer_infrastructure/data/timestamps (main) $\n",
    "- I'll use the \"date\" command to output the current date and time, and to have this date-time appended into a text file, I'll use \">>\" operator and the name of the text file to .\n",
    "    - @Jennyicano ➜ /workspaces/computer_infrastructure/data/timestamps (main) $ date >>now.text\n",
    "    - @Jennyicano ➜ /workspaces/computer_infrastructure/data/timestamps (main) $ ls (to check the text file has been added to the repository and it has the date. )\n",
    "        - output = now.text\n",
    "- Repeating the command line for date and text 9 times (we have one current date and time stamp in the textb file) and then checking the verifying the content of the file using the command \"more\"\n",
    "    - x 9 times = @Jennyicano ➜ /workspaces/computer_infrastructure/data/timestamps (main) $ date >>now.text\n",
    "    - @Jennyicano ➜ /workspaces/computer_infrastructure/data/timestamps (main) $ more now.text \n",
    "        - output =  Thu Oct 17 17:35:43 UTC 2024\n",
    "                    Thu Oct 17 17:36:25 UTC 2024\n",
    "                    Thu Oct 17 17:36:44 UTC 2024\n",
    "                    Thu Oct 17 17:36:49 UTC 2024\n",
    "                    Thu Oct 17 17:36:51 UTC 2024\n",
    "                    Thu Oct 17 17:36:53 UTC 2024\n",
    "                    Thu Oct 17 17:36:55 UTC 2024\n",
    "                    Thu Oct 17 17:37:11 UTC 2024\n",
    "                    Thu Oct 17 17:37:22 UTC 2024\n",
    "                    Thu Oct 17 17:37:34 UTC 2024\n",
    "\n",
    "*******************"
   ]
  },
  {
   "cell_type": "markdown",
   "metadata": {},
   "source": [
    "#### Task 3: Formatting Timestamps\n",
    "\n",
    "Description of the task: Run the date command again, but this time format the output using YYYYmmdd_HHMMSS. Refer to the date man page (using man date) for more formatting options. (Press q to exit the man page). Append the formatted output to a file named formatted.txt.\n",
    "\n",
    "Steps that I followed:\n",
    "- Open the repository and selecting the codespace that I created in the task 1. \n",
    "- Navigate to the data/timestamps directory\n",
    "    - @Jennyicano ➜ /workspaces/computer_infrastructure (main) $ cd data/\n",
    "    - @Jennyicano ➜ /workspaces/computer_infrastructure/data (main) $ ls\n",
    "        - output = timestamp weather\n",
    "    - @Jennyicano ➜ /workspaces/computer_infrastructure/data (main) $ cd timestamp \n",
    "    - @Jennyicano ➜ /workspaces/computer_infrastructure/data/timestamps (main) $ man date (using this command it'll open a new terminal with the user commands related with date and the different formats controls)\n",
    "    - @Jennyicano ➜ /workspaces/computer_infrastructure/data/timestamps (main) $ date +\"%Y/%m/%d_%H:%M:%S\" (looking at the date in this format in the terminal)\n",
    "    - @Jennyicano ➜ /workspaces/computer_infrastructure/data/timestamps (main) $ date +\"%Y/%m/%d_%H:%M:%S\" >>formatted.text (getting the date and adding it to a text file in the directory timestamps)\n",
    "\n",
    "*******************"
   ]
  },
  {
   "cell_type": "markdown",
   "metadata": {},
   "source": [
    "#### Task 4: Create Timestamped Files\n",
    "\n",
    "Description of the task: Use the touch command to create an empty file with a name in the YYYYmmdd_HHMMSS.txt format. You can achieve this by embedding your date command in backticks ` into the touch command. You should no longer use redirection (>>) in this step.\n",
    "\n",
    "Steps that I followed:\n",
    "- Open the repository and selecting the codespace that I created in the task 1. \n",
    "- Navigate to the data/timestamps directory\n",
    "    - @Jennyicano ➜ /workspaces/computer_infrastructure (main) $ cd data/\n",
    "    - @Jennyicano ➜ /workspaces/computer_infrastructure/data (main) $ cd timestamp (moving to timestamp directory)\n",
    "- For this task I'll use the \"touch\" command and the backticks `, instead of the \">>\" command to save the date in the text file name.\n",
    "    - @Jennyicano ➜ /workspaces/computer_infrastructure/data/timestamps (main) $ `date +\"%Y/%m/%d_%H:%M:%S\"`.text\n",
    "- Checkin the new empty file has been added to the directory suscesfully. \n",
    "    - @Jennyicano ➜ /workspaces/computer_infrastructure/data/timestamps (main) $ ls\n",
    "        - output = nom.text  formatted.txt  20241030_074543.text\n",
    "\n",
    "*******************"
   ]
  },
  {
   "cell_type": "markdown",
   "metadata": {},
   "source": [
    "#### Task 5: Download Today's Weather Data\n",
    "\n",
    "Description of the task: Change to the data/weather directory. Download the latest weather data for the Athenry weather station from Met Eireann using wget. Use the -O <filename> option to save the file as weather.json. The data can be found at this URL:\n",
    "https://prodapi.metweb.ie/observations/athenry/today.\n",
    "\n",
    "- Open the repository and selecting the codespace that I created in the task 1. \n",
    "- Navigate to the data/weather directory\n",
    "    - @Jennyicano ➜ /workspaces/computer_infrastructure (main) $ cd data/\n",
    "    - @Jennyicano ➜ /workspaces/computer_infrastructure/data (main) $ cd weather (moving to weather directory)\n",
    "    - @Jennyicano ➜ /workspaces/computer_infrastructure/data/weather (main) $ \n",
    "- To download the lates weather data I'll use the command line wget with the option -0 to save the file as weather.json\n",
    "    - @Jennyicano ➜ /workspaces/computer_infrastructure/data/weather (main) $ wget -0 weather.json https://prodapi.metweb.ie/observations/athenry/today\n",
    "    - Output in the terminal\n",
    "    \n",
    "\n",
    "\n",
    "    \n",
    "*******************"
   ]
  },
  {
   "cell_type": "markdown",
   "metadata": {},
   "source": [
    "#### Task 6: \n",
    "\n",
    "Description of the task: \n",
    "\n",
    "\n",
    "\n",
    "*******************"
   ]
  },
  {
   "cell_type": "markdown",
   "metadata": {},
   "source": [
    "#### Task 7: \n",
    "\n",
    "Description of the task: \n",
    "\n",
    "\n",
    "\n",
    "\n",
    "*******************"
   ]
  }
 ],
 "metadata": {
  "kernelspec": {
   "display_name": "base",
   "language": "python",
   "name": "python3"
  },
  "language_info": {
   "name": "python",
   "version": "3.11.5"
  }
 },
 "nbformat": 4,
 "nbformat_minor": 2
}
