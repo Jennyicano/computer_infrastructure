{
 "cells": [
  {
   "cell_type": "markdown",
   "metadata": {},
   "source": [
    "### Notebook of the task 1 to 7.\n",
    "\n",
    "Author Jennifer Ibanez Cano \n",
    "\n",
    "This notebook contains a brief report explaining how I completed Task 1 to 7, using the command line. \n",
    "\n",
    "*******************"
   ]
  },
  {
   "cell_type": "markdown",
   "metadata": {},
   "source": [
    "#### Task 1: Create a Directory Structure. \n",
    "\n",
    "Description of the task: Using the command line, create a directory (that is, a folder) named data at the root of your repository. Inside data, create two subdirectories: timestamps and weather.\n",
    "\n",
    "Steps that I followed:\n",
    "\n",
    "- Open the repository, then to open de codespace, I clic in Code and selected the option \"Create a codespace on main\". \n",
    "- Now that I have open the codespace in a window I can create the directory named data., To cretae new directories I'll use the command \"mkdir\". To do this I followed this steps in the Terminal:\n",
    "    - @Jennyicano ➜ /workspaces/computer_infrastructure (main) $ mkdir data (this will create a new directory in the root of the repository)\n",
    "- Checking the new directory it has being created, using \"ls\":\n",
    "    - @Jennyicano ➜ /workspaces/computer_infrastructure (main) $ ls\n",
    "    Readme.md data\n",
    "- Create the two subdirectories: timestamps and weather.\n",
    "    - @Jennyicano ➜ /workspaces/computer_infrastructure (main) $ cd data/ (I'll use the command \"cd\" to go into the directory data)\n",
    "    - @Jennyicano ➜ /workspaces/computer_infrastructure/data (main) $ mkdir timestamp\n",
    "    - @Jennyicano ➜ /workspaces/computer_infrastructure/data (main) $ mkdir weather\n",
    "    - @Jennyicano ➜ /workspaces/computer_infrastructure/data (main) $ ls (checking the new subdirectories have been created )\n",
    "    timestamp  data\n",
    "\n",
    "*******************"
   ]
  },
  {
   "cell_type": "markdown",
   "metadata": {},
   "source": [
    "#### Task 2: \n",
    "\n",
    "Description of the task: "
   ]
  },
  {
   "cell_type": "markdown",
   "metadata": {},
   "source": [
    "#### Task 3: \n",
    "\n",
    "Description of the task: "
   ]
  },
  {
   "cell_type": "markdown",
   "metadata": {},
   "source": [
    "#### Task 4: \n",
    "\n",
    "Description of the task: "
   ]
  },
  {
   "cell_type": "markdown",
   "metadata": {},
   "source": [
    "#### Task 5: \n",
    "\n",
    "Description of the task: "
   ]
  },
  {
   "cell_type": "markdown",
   "metadata": {},
   "source": [
    "#### Task 6: \n",
    "\n",
    "Description of the task: "
   ]
  },
  {
   "cell_type": "markdown",
   "metadata": {},
   "source": [
    "#### Task 7: \n",
    "\n",
    "Description of the task: "
   ]
  }
 ],
 "metadata": {
  "kernelspec": {
   "display_name": "base",
   "language": "python",
   "name": "python3"
  },
  "language_info": {
   "name": "python",
   "version": "3.11.5"
  }
 },
 "nbformat": 4,
 "nbformat_minor": 2
}
